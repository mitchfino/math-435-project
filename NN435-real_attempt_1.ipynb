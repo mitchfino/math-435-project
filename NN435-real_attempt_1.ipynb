{
 "cells": [
  {
   "cell_type": "code",
   "execution_count": 162,
   "id": "8ce925f1",
   "metadata": {},
   "outputs": [],
   "source": [
    "# !pip install [package name] # use this to install packages in jupyter\n",
    "# !pip install tensorflow_addons # likely need to run this without the comment\n",
    "# from geopy.geocoders import Nominatim\n",
    "\n",
    "import pandas as pd\n",
    "#from geopy.geocoders import Nominatim\n",
    "import numpy as np\n",
    "import re\n",
    "import matplotlib.pyplot as plt\n",
    "from matplotlib import style\n",
    "style.use('seaborn-white')\n",
    "from sklearn.model_selection import train_test_split\n",
    "from sklearn.linear_model import LinearRegression\n",
    "from sklearn.metrics import r2_score\n",
    "import tensorflow as tf \n",
    "from tensorflow import keras\n",
    "import tensorflow_addons.metrics as tfa\n",
    "from tensorflow_addons.metrics import RSquare\n",
    "from scipy import stats"
   ]
  },
  {
   "cell_type": "code",
   "execution_count": 167,
   "id": "009471a8",
   "metadata": {},
   "outputs": [
    {
     "name": "stdout",
     "output_type": "stream",
     "text": [
      "<class 'pandas.core.frame.DataFrame'>\n",
      "RangeIndex: 35104 entries, 0 to 35103\n",
      "Data columns (total 40 columns):\n",
      " #   Column                      Non-Null Count  Dtype  \n",
      "---  ------                      --------------  -----  \n",
      " 0   NBHD                        35104 non-null  object \n",
      " 1   PID                         35104 non-null  object \n",
      " 2   Situs                       35104 non-null  object \n",
      " 3   PrpCls                      35104 non-null  object \n",
      " 4   PrUse                       35104 non-null  int64  \n",
      " 5   CDU                         35104 non-null  int64  \n",
      " 6   Qual                        35104 non-null  int64  \n",
      " 7   YrRD                        35104 non-null  object \n",
      " 8   Remd                        35104 non-null  object \n",
      " 9   Imp                         35104 non-null  object \n",
      " 10  TLA                         35104 non-null  int64  \n",
      " 11  YrBlt                       35104 non-null  int64  \n",
      " 12  GarCap                      35104 non-null  int64  \n",
      " 13  Bedrm                       35103 non-null  float64\n",
      " 14  FND                         35099 non-null  float64\n",
      " 15  801Units                    35104 non-null  int64  \n",
      " 16  802Units                    35104 non-null  int64  \n",
      " 17  803Units                    35104 non-null  int64  \n",
      " 18  FP                          35104 non-null  int64  \n",
      " 19  FixCt                       35104 non-null  int64  \n",
      " 20  Pool                        35104 non-null  int64  \n",
      " 21  LandType                    35104 non-null  object \n",
      " 22  Acres                       35104 non-null  float64\n",
      " 23  LandValue                   35104 non-null  int64  \n",
      " 24  Infl1                       35104 non-null  object \n",
      " 25  Infl2                       35104 non-null  object \n",
      " 26  HSA_Acres                   35104 non-null  float64\n",
      " 27  HSALandValue                35104 non-null  int64  \n",
      " 28  TotAcres                    34328 non-null  float64\n",
      " 29  V/I                         35099 non-null  object \n",
      " 30  Inst#                       35104 non-null  int64  \n",
      " 31  SaleDate                    35104 non-null  int64  \n",
      " 32  SaleQuarter                 35104 non-null  int64  \n",
      " 33  SaleYear                    35104 non-null  int64  \n",
      " 34  Price                       35104 non-null  float64\n",
      " 35  SaleValidity                35104 non-null  int64  \n",
      " 36  Infl1.1                     35104 non-null  object \n",
      " 37  Infl2.1                     35104 non-null  object \n",
      " 38  Product of Infl1 and Infl2  35104 non-null  object \n",
      " 39  Adjusted Price              35104 non-null  float64\n",
      "dtypes: float64(7), int64(19), object(14)\n",
      "memory usage: 10.7+ MB\n"
     ]
    }
   ],
   "source": [
    "df = pd.read_csv(r\"C:\\Users\\Owner\\Documents\\UNL\\2022 Fall\\Math 435\\Datasets\\CleanedDataV3_EricLiuVersion.csv\") \n",
    "\n",
    "#df.head()\n",
    "df.info()"
   ]
  },
  {
   "cell_type": "code",
   "execution_count": 198,
   "id": "f4cd9ec6",
   "metadata": {},
   "outputs": [
    {
     "name": "stdout",
     "output_type": "stream",
     "text": [
      "<class 'pandas.core.frame.DataFrame'>\n",
      "Int64Index: 34326 entries, 0 to 35102\n",
      "Data columns (total 24 columns):\n",
      " #   Column          Non-Null Count  Dtype  \n",
      "---  ------          --------------  -----  \n",
      " 0   PrUse           34326 non-null  int64  \n",
      " 1   CDU             34326 non-null  int64  \n",
      " 2   Qual            34326 non-null  int64  \n",
      " 3   TLA             34326 non-null  int64  \n",
      " 4   YrBlt           34326 non-null  int64  \n",
      " 5   GarCap          34326 non-null  int64  \n",
      " 6   Bedrm           34326 non-null  float64\n",
      " 7   FND             34326 non-null  float64\n",
      " 8   801Units        34326 non-null  int64  \n",
      " 9   802Units        34326 non-null  int64  \n",
      " 10  803Units        34326 non-null  int64  \n",
      " 11  FP              34326 non-null  int64  \n",
      " 12  FixCt           34326 non-null  int64  \n",
      " 13  Pool            34326 non-null  int64  \n",
      " 14  Acres           34326 non-null  float64\n",
      " 15  LandValue       34326 non-null  int64  \n",
      " 16  HSA_Acres       34326 non-null  float64\n",
      " 17  HSALandValue    34326 non-null  int64  \n",
      " 18  TotAcres        34326 non-null  float64\n",
      " 19  SaleDate        34326 non-null  int64  \n",
      " 20  SaleQuarter     34326 non-null  int64  \n",
      " 21  SaleYear        34326 non-null  int64  \n",
      " 22  SaleValidity    34326 non-null  int64  \n",
      " 23  Adjusted Price  34326 non-null  float64\n",
      "dtypes: float64(6), int64(18)\n",
      "memory usage: 6.5 MB\n"
     ]
    }
   ],
   "source": [
    "df = pd.read_csv(r\"C:\\Users\\Owner\\Documents\\UNL\\2022 Fall\\Math 435\\Datasets\\CleanedDataV3_EricLiuVersion.csv\") \n",
    "\n",
    "# prob should have done a loop\n",
    "df.pop('Infl1.1')\n",
    "df.pop('Infl2.1')\n",
    "df.pop('Product of Infl1 and Infl2')\n",
    "#df.pop('Unnamed: 40')\n",
    "#df.pop('Unnamed: 41')\n",
    "df.pop('NBHD')\n",
    "df.pop('PID')\n",
    "df.pop('Situs')\n",
    "df.pop('PrpCls')\n",
    "df.pop('Infl1')\n",
    "df.pop('Infl2')\n",
    "df.pop('V/I')\n",
    "df.pop('Inst#')\n",
    "\n",
    "df.pop('Price') #\n",
    "#df.pop('PrUse') #\n",
    "df.pop('Remd') # change to 0 1 remodeled or not\n",
    "df.pop('YrRD') #\n",
    "df.pop('Imp') #\n",
    "df.pop('LandType') #\n",
    "\n",
    "#df.info()\n",
    "\n",
    "df.dropna(how='any',inplace=True)\n",
    "\n",
    "df.info()\n",
    "\n",
    "#X = useful_df[[\"CDU\",\"Qual\",\"TLA\",\"GarCap\",\"Bedrm\",\"FND\",\"801Units\",\"802Units\",\"803Units\",\n",
    "#             \"FP\",\"FixCt\",\"Pool\",\"LandValue\",\"TotAcres\",\"SaleQuarter\",\"SaleYear\"]]\n",
    "#Y = useful_df[\"Price\"]\n",
    "\n",
    "\n",
    "# dropout\n",
    "# hyperparameter tuning\n",
    "# regularization\n",
    "# normalize variables\n",
    "# prob stick with dense layers"
   ]
  },
  {
   "cell_type": "code",
   "execution_count": 217,
   "id": "3332a422",
   "metadata": {},
   "outputs": [],
   "source": [
    "not_z = df[[\"TLA\",\"YrBlt\",\"801Units\",\"802Units\",\"803Units\",\"803Units\",\"Pool\"]] \n",
    "for column in not_z:\n",
    "    df[column] = stats.zscore(df[column])\n",
    "    \n",
    "# "
   ]
  },
  {
   "cell_type": "code",
   "execution_count": 218,
   "id": "c59b578b",
   "metadata": {},
   "outputs": [
    {
     "data": {
      "text/plain": [
       "0        11.384276\n",
       "1        11.321383\n",
       "2        13.375699\n",
       "3        13.170267\n",
       "4        12.759404\n",
       "           ...    \n",
       "35089    -1.778833\n",
       "35093    -1.495838\n",
       "35099    -1.555071\n",
       "35101    -1.655047\n",
       "35102    -1.815969\n",
       "Name: Adjusted Price, Length: 34326, dtype: float64"
      ]
     },
     "execution_count": 218,
     "metadata": {},
     "output_type": "execute_result"
    }
   ],
   "source": [
    "df[\"Adjusted Price\"]"
   ]
  },
  {
   "cell_type": "code",
   "execution_count": 219,
   "id": "a1f5f156",
   "metadata": {
    "scrolled": false
   },
   "outputs": [
    {
     "name": "stdout",
     "output_type": "stream",
     "text": [
      "tf.Tensor([25744    23], shape=(2,), dtype=int32)\n",
      "tf.Tensor([25744], shape=(1,), dtype=int32)\n"
     ]
    }
   ],
   "source": [
    "X = df[[col for col in df.columns if (col != \"Price\" or col!= \"Adjusted Price\")]]\n",
    "X.pop(\"Adjusted Price\")\n",
    "\n",
    "Y = df[\"Adjusted Price\"]\n",
    "\n",
    "Y.astype(\"float64\")\n",
    "#X.info() # 34326\n",
    "#print(X.SaleDate[0])\n",
    "\n",
    "#X[\"CDU\"].type\n",
    "\n",
    "x_train,x_test,y_train,y_test = train_test_split(X,Y,test_size=0.25)\n",
    "\n",
    "print(tf.shape(x_train))\n",
    "print(tf.shape(y_train))"
   ]
  },
  {
   "cell_type": "code",
   "execution_count": 212,
   "id": "0f2ac3ae",
   "metadata": {
    "scrolled": false
   },
   "outputs": [
    {
     "name": "stdout",
     "output_type": "stream",
     "text": [
      "<class 'pandas.core.frame.DataFrame'>\n",
      "Int64Index: 34326 entries, 0 to 35102\n",
      "Data columns (total 23 columns):\n",
      " #   Column        Non-Null Count  Dtype  \n",
      "---  ------        --------------  -----  \n",
      " 0   PrUse         34326 non-null  float64\n",
      " 1   CDU           34326 non-null  float64\n",
      " 2   Qual          34326 non-null  float64\n",
      " 3   TLA           34326 non-null  float64\n",
      " 4   YrBlt         34326 non-null  float64\n",
      " 5   GarCap        34326 non-null  float64\n",
      " 6   Bedrm         34326 non-null  float64\n",
      " 7   FND           34326 non-null  float64\n",
      " 8   801Units      34326 non-null  float64\n",
      " 9   802Units      34326 non-null  float64\n",
      " 10  803Units      34326 non-null  float64\n",
      " 11  FP            34326 non-null  float64\n",
      " 12  FixCt         34326 non-null  float64\n",
      " 13  Pool          34326 non-null  float64\n",
      " 14  Acres         34326 non-null  float64\n",
      " 15  LandValue     34326 non-null  float64\n",
      " 16  HSA_Acres     34326 non-null  float64\n",
      " 17  HSALandValue  34326 non-null  float64\n",
      " 18  TotAcres      34326 non-null  float64\n",
      " 19  SaleDate      34326 non-null  float64\n",
      " 20  SaleQuarter   34326 non-null  float64\n",
      " 21  SaleYear      34326 non-null  float64\n",
      " 22  SaleValidity  34326 non-null  float64\n",
      "dtypes: float64(23)\n",
      "memory usage: 6.3 MB\n"
     ]
    }
   ],
   "source": [
    "X.info()\n",
    "#print(Y)\n",
    "#print(dir(x_train)) both have iter\n",
    "#print(dir(y_train))\n",
    "# don't really think this cell is necessary\n",
    "#x_train = np.asarray(x_train).astype(np.float32)\n",
    "#y_train = np.asarray(y_train).astype(np.float32)"
   ]
  },
  {
   "cell_type": "code",
   "execution_count": 220,
   "id": "ed32010d",
   "metadata": {},
   "outputs": [
    {
     "name": "stdout",
     "output_type": "stream",
     "text": [
      "Epoch 1/25\n",
      "805/805 [==============================] - 5s 5ms/step - loss: 0.2549 - r_square: 0.7444\n",
      "Epoch 2/25\n",
      "805/805 [==============================] - 3s 4ms/step - loss: 0.1884 - r_square: 0.8111\n",
      "Epoch 3/25\n",
      "805/805 [==============================] - 3s 4ms/step - loss: 0.1679 - r_square: 0.8316\n",
      "Epoch 4/25\n",
      "805/805 [==============================] - 2s 3ms/step - loss: 0.1682 - r_square: 0.8314\n",
      "Epoch 5/25\n",
      "805/805 [==============================] - 3s 3ms/step - loss: 0.1573 - r_square: 0.8423\n",
      "Epoch 6/25\n",
      "805/805 [==============================] - 4s 5ms/step - loss: 0.1554 - r_square: 0.8441\n",
      "Epoch 7/25\n",
      "805/805 [==============================] - 3s 4ms/step - loss: 0.1511 - r_square: 0.8484\n",
      "Epoch 8/25\n",
      "805/805 [==============================] - 3s 4ms/step - loss: 0.1485 - r_square: 0.8511\n",
      "Epoch 9/25\n",
      "805/805 [==============================] - 3s 4ms/step - loss: 0.1469 - r_square: 0.8527\n",
      "Epoch 10/25\n",
      "805/805 [==============================] - 3s 4ms/step - loss: 0.1452 - r_square: 0.8544\n",
      "Epoch 11/25\n",
      "805/805 [==============================] - 3s 4ms/step - loss: 0.1423 - r_square: 0.8573\n",
      "Epoch 12/25\n",
      "805/805 [==============================] - 2s 3ms/step - loss: 0.1411 - r_square: 0.8585\n",
      "Epoch 13/25\n",
      "805/805 [==============================] - 2s 3ms/step - loss: 0.1386 - r_square: 0.8610\n",
      "Epoch 14/25\n",
      "805/805 [==============================] - 2s 3ms/step - loss: 0.1384 - r_square: 0.8613\n",
      "Epoch 15/25\n",
      "805/805 [==============================] - 2s 3ms/step - loss: 0.1380 - r_square: 0.8616\n",
      "Epoch 16/25\n",
      "805/805 [==============================] - 3s 3ms/step - loss: 0.1379 - r_square: 0.8617\n",
      "Epoch 17/25\n",
      "805/805 [==============================] - 5s 6ms/step - loss: 0.1355 - r_square: 0.8641\n",
      "Epoch 18/25\n",
      "805/805 [==============================] - 6s 7ms/step - loss: 0.1350 - r_square: 0.8646\n",
      "Epoch 19/25\n",
      "805/805 [==============================] - 6s 7ms/step - loss: 0.1358 - r_square: 0.8638\n",
      "Epoch 20/25\n",
      "805/805 [==============================] - 4s 5ms/step - loss: 0.1313 - r_square: 0.8683\n",
      "Epoch 21/25\n",
      "805/805 [==============================] - 6s 7ms/step - loss: 0.1309 - r_square: 0.8688\n",
      "Epoch 22/25\n",
      "805/805 [==============================] - 5s 6ms/step - loss: 0.1313 - r_square: 0.8683\n",
      "Epoch 23/25\n",
      "805/805 [==============================] - 4s 4ms/step - loss: 0.1279 - r_square: 0.8717\n",
      "Epoch 24/25\n",
      "805/805 [==============================] - 6s 7ms/step - loss: 0.1303 - r_square: 0.8693\n",
      "Epoch 25/25\n",
      "805/805 [==============================] - 6s 7ms/step - loss: 0.1271 - r_square: 0.8725\n"
     ]
    }
   ],
   "source": [
    "metric = RSquare()\n",
    "#initializer = tf.keras.initializers.GlorotNormal()\n",
    "#optimizer = keras.optimizers.Adam(learning_rate=0.005)\n",
    "\n",
    "model = keras.Sequential([\n",
    "    keras.layers.Dense(22, input_shape=[len(X.columns)], activation='relu'), #kernel_initializer=initializer\n",
    "    #keras.layers.Dropout(.1),\n",
    "    keras.layers.Dense(44, activation='relu'),\n",
    "    keras.layers.Dropout(.1),\n",
    "    keras.layers.Dense(88, activation='relu'),\n",
    "    keras.layers.Dense(1, activation='linear')\n",
    "    ])\n",
    "\n",
    "model.compile(optimizer='adam',loss='mean_squared_error',metrics=[metric])\n",
    "\n",
    "fit = model.fit(x_train,y_train,epochs=25)\n",
    "\n",
    "#23804076032.0000\n",
    "#4023017216.0000"
   ]
  },
  {
   "cell_type": "code",
   "execution_count": 216,
   "id": "0d9cb262",
   "metadata": {},
   "outputs": [
    {
     "name": "stdout",
     "output_type": "stream",
     "text": [
      "269/269 [==============================] - 1s 2ms/step - loss: 0.1656 - r_square: 0.8363\n"
     ]
    },
    {
     "data": {
      "text/plain": [
       "[0.16558292508125305, 0.8362582921981812]"
      ]
     },
     "execution_count": 216,
     "metadata": {},
     "output_type": "execute_result"
    }
   ],
   "source": [
    "# trained = model.predict(x_train)\n",
    "model.evaluate(x_test, y_test)\n",
    "# prediction to price ratio\n",
    "# median of this statistic"
   ]
  },
  {
   "cell_type": "code",
   "execution_count": null,
   "id": "9f66a15e",
   "metadata": {},
   "outputs": [],
   "source": [
    "# fixing/narrowing variables\n",
    "# prediction/price ratio\n",
    "# try to make the model a lil better"
   ]
  }
 ],
 "metadata": {
  "kernelspec": {
   "display_name": "Python 3 (ipykernel)",
   "language": "python",
   "name": "python3"
  },
  "language_info": {
   "codemirror_mode": {
    "name": "ipython",
    "version": 3
   },
   "file_extension": ".py",
   "mimetype": "text/x-python",
   "name": "python",
   "nbconvert_exporter": "python",
   "pygments_lexer": "ipython3",
   "version": "3.9.7"
  }
 },
 "nbformat": 4,
 "nbformat_minor": 5
}
