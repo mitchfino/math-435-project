{
 "cells": [
  {
   "cell_type": "code",
   "execution_count": 179,
   "id": "8ce925f1",
   "metadata": {},
   "outputs": [],
   "source": [
    "# !pip install [package name] # use this to install packages in jupyter\n",
    "# !pip install tensorflow_addons # likely need to run this without the comment\n",
    "# from geopy.geocoders import Nominatim\n",
    "\n",
    "import pandas as pd\n",
    "#from geopy.geocoders import Nominatim\n",
    "import numpy as np\n",
    "import re\n",
    "import matplotlib.pyplot as plt\n",
    "from matplotlib import style\n",
    "style.use('seaborn-white')\n",
    "from sklearn.model_selection import train_test_split\n",
    "from sklearn.linear_model import LinearRegression\n",
    "from sklearn.metrics import r2_score\n",
    "import tensorflow as tf \n",
    "from tensorflow import keras\n",
    "import tensorflow_addons.metrics as tfa\n",
    "from tensorflow_addons.metrics import RSquare"
   ]
  },
  {
   "cell_type": "code",
   "execution_count": 197,
   "id": "20f1cbe9",
   "metadata": {},
   "outputs": [],
   "source": [
    "df = pd.read_excel(r\"C:\\Users\\Owner\\Documents\\UNL\\2022 Fall\\Math 435\\Datasets\\CleanedDataV2.xlsx\") \n",
    "# change data path to wherever the dataset is at"
   ]
  },
  {
   "cell_type": "code",
   "execution_count": 198,
   "id": "009471a8",
   "metadata": {},
   "outputs": [
    {
     "name": "stdout",
     "output_type": "stream",
     "text": [
      "<class 'pandas.core.frame.DataFrame'>\n",
      "RangeIndex: 35104 entries, 0 to 35103\n",
      "Data columns (total 36 columns):\n",
      " #   Column        Non-Null Count  Dtype         \n",
      "---  ------        --------------  -----         \n",
      " 0   NBHD          35104 non-null  object        \n",
      " 1   PID           35104 non-null  object        \n",
      " 2   Situs         35104 non-null  object        \n",
      " 3   PrpCls        35104 non-null  object        \n",
      " 4   PrUse         35104 non-null  int64         \n",
      " 5   CDU           35104 non-null  int64         \n",
      " 6   Qual          35104 non-null  int64         \n",
      " 7   YrRD          35104 non-null  object        \n",
      " 8   Remd          35104 non-null  object        \n",
      " 9   Imp           35104 non-null  object        \n",
      " 10  TLA           35104 non-null  int64         \n",
      " 11  YrBlt         35104 non-null  int64         \n",
      " 12  GarCap        35104 non-null  int64         \n",
      " 13  Bedrm         35103 non-null  float64       \n",
      " 14  FND           35099 non-null  float64       \n",
      " 15  801Units      35104 non-null  int64         \n",
      " 16  802Units      35104 non-null  int64         \n",
      " 17  803Units      35104 non-null  int64         \n",
      " 18  FP            35104 non-null  int64         \n",
      " 19  FixCt         35104 non-null  int64         \n",
      " 20  Pool          35104 non-null  int64         \n",
      " 21  LandType      35104 non-null  object        \n",
      " 22  Acres         1227 non-null   float64       \n",
      " 23  LandValue     35104 non-null  int64         \n",
      " 24  Infl1         35104 non-null  object        \n",
      " 25  Infl2         35104 non-null  object        \n",
      " 26  HSA_Acres     969 non-null    float64       \n",
      " 27  HSALandValue  968 non-null    float64       \n",
      " 28  TotAcres      34328 non-null  float64       \n",
      " 29  V/I           35099 non-null  object        \n",
      " 30  Inst#         35104 non-null  int64         \n",
      " 31  SaleDate      35104 non-null  datetime64[ns]\n",
      " 32  SaleQuarter   35104 non-null  int64         \n",
      " 33  SaleYear      35104 non-null  int64         \n",
      " 34  Price         35104 non-null  float64       \n",
      " 35  SaleValidity  35104 non-null  int64         \n",
      "dtypes: datetime64[ns](1), float64(7), int64(17), object(11)\n",
      "memory usage: 9.6+ MB\n"
     ]
    }
   ],
   "source": [
    "#df.head()\n",
    "df.info()"
   ]
  },
  {
   "cell_type": "code",
   "execution_count": 199,
   "id": "f4cd9ec6",
   "metadata": {},
   "outputs": [
    {
     "name": "stdout",
     "output_type": "stream",
     "text": [
      "<class 'pandas.core.frame.DataFrame'>\n",
      "Int64Index: 34326 entries, 0 to 35102\n",
      "Data columns (total 17 columns):\n",
      " #   Column       Non-Null Count  Dtype  \n",
      "---  ------       --------------  -----  \n",
      " 0   CDU          34326 non-null  int64  \n",
      " 1   Qual         34326 non-null  int64  \n",
      " 2   TLA          34326 non-null  int64  \n",
      " 3   GarCap       34326 non-null  int64  \n",
      " 4   Bedrm        34326 non-null  float64\n",
      " 5   FND          34326 non-null  float64\n",
      " 6   801Units     34326 non-null  int64  \n",
      " 7   802Units     34326 non-null  int64  \n",
      " 8   803Units     34326 non-null  int64  \n",
      " 9   FP           34326 non-null  int64  \n",
      " 10  FixCt        34326 non-null  int64  \n",
      " 11  Pool         34326 non-null  int64  \n",
      " 12  LandValue    34326 non-null  int64  \n",
      " 13  TotAcres     34326 non-null  float64\n",
      " 14  SaleQuarter  34326 non-null  int64  \n",
      " 15  SaleYear     34326 non-null  int64  \n",
      " 16  Price        34326 non-null  float64\n",
      "dtypes: float64(4), int64(13)\n",
      "memory usage: 4.7 MB\n"
     ]
    },
    {
     "name": "stderr",
     "output_type": "stream",
     "text": [
      "C:\\Users\\Owner\\anaconda3\\lib\\site-packages\\pandas\\util\\_decorators.py:311: SettingWithCopyWarning: \n",
      "A value is trying to be set on a copy of a slice from a DataFrame\n",
      "\n",
      "See the caveats in the documentation: https://pandas.pydata.org/pandas-docs/stable/user_guide/indexing.html#returning-a-view-versus-a-copy\n",
      "  return func(*args, **kwargs)\n"
     ]
    }
   ],
   "source": [
    "useful_df = df[[\"CDU\",\"Qual\",\"TLA\",\"GarCap\",\"Bedrm\",\"FND\",\"801Units\",\"802Units\",\"803Units\",\n",
    "                \"FP\",\"FixCt\",\"Pool\",\"LandValue\",\"TotAcres\",\"SaleQuarter\",\"SaleYear\", \"Price\"]]\n",
    "\n",
    "useful_df.dropna(how='any',inplace=True)\n",
    "\n",
    "useful_df.info()\n",
    "\n",
    "X = useful_df[[\"CDU\",\"Qual\",\"TLA\",\"GarCap\",\"Bedrm\",\"FND\",\"801Units\",\"802Units\",\"803Units\",\n",
    "             \"FP\",\"FixCt\",\"Pool\",\"LandValue\",\"TotAcres\",\"SaleQuarter\",\"SaleYear\"]]\n",
    "Y = useful_df[\"Price\"]"
   ]
  },
  {
   "cell_type": "code",
   "execution_count": 200,
   "id": "a1f5f156",
   "metadata": {
    "scrolled": false
   },
   "outputs": [
    {
     "name": "stdout",
     "output_type": "stream",
     "text": [
      "tf.Tensor([25744    16], shape=(2,), dtype=int32)\n",
      "tf.Tensor([25744], shape=(1,), dtype=int32)\n",
      "tf.Tensor([25744     1    16], shape=(3,), dtype=int32)\n",
      "tf.Tensor([25744     1     1], shape=(3,), dtype=int32)\n"
     ]
    }
   ],
   "source": [
    "#X = useful_df[[col for col in useful_df.columns if col != 'Price']]\n",
    "#Y = useful_df[\"Price\"]\n",
    "# Y = np.reshape(list(Y),(-1,1))\n",
    "\n",
    "x_train,x_test,y_train,y_test = train_test_split(X,Y,test_size=0.25)\n",
    "\n",
    "\n",
    "print(tf.shape(x_train))\n",
    "print(tf.shape(y_train))\n",
    "\n",
    "\n",
    "#x_train_conv = np.expand_dims(x_train, axis=1)\n",
    "#y_train_conv = np.expand_dims(y_train, axis=1)\n",
    "#y_train_conv = np.expand_dims(y_train_conv, axis=1)\n",
    "# for future convolutional network\n",
    "\n",
    "\n",
    "#print(tf.shape(x_train_conv))\n",
    "#print(tf.shape(y_train_conv))"
   ]
  },
  {
   "cell_type": "code",
   "execution_count": 203,
   "id": "ed32010d",
   "metadata": {},
   "outputs": [
    {
     "name": "stdout",
     "output_type": "stream",
     "text": [
      "Epoch 1/15\n",
      "805/805 [==============================] - 1s 951us/step - loss: 15867242496.0000 - r_square: 0.0738\n",
      "Epoch 2/15\n",
      "805/805 [==============================] - 1s 911us/step - loss: 5872286720.0000 - r_square: 0.6572\n",
      "Epoch 3/15\n",
      "805/805 [==============================] - 1s 864us/step - loss: 5650439168.0000 - r_square: 0.6702\n",
      "Epoch 4/15\n",
      "805/805 [==============================] - 1s 900us/step - loss: 5356637696.0000 - r_square: 0.6873\n",
      "Epoch 5/15\n",
      "805/805 [==============================] - 1s 892us/step - loss: 5003694080.0000 - r_square: 0.7079\n",
      "Epoch 6/15\n",
      "805/805 [==============================] - 1s 939us/step - loss: 4651738624.0000 - r_square: 0.7285\n",
      "Epoch 7/15\n",
      "805/805 [==============================] - 1s 969us/step - loss: 4379338240.0000 - r_square: 0.7444\n",
      "Epoch 8/15\n",
      "805/805 [==============================] - 1s 920us/step - loss: 4214697728.0000 - r_square: 0.7540\n",
      "Epoch 9/15\n",
      "805/805 [==============================] - 1s 911us/step - loss: 4138270976.0000 - r_square: 0.7584\n",
      "Epoch 10/15\n",
      "805/805 [==============================] - 1s 936us/step - loss: 4104645632.0000 - r_square: 0.7604\n",
      "Epoch 11/15\n",
      "805/805 [==============================] - 1s 952us/step - loss: 4075220992.0000 - r_square: 0.7621\n",
      "Epoch 12/15\n",
      "805/805 [==============================] - 1s 1ms/step - loss: 4064317440.0000 - r_square: 0.7628\n",
      "Epoch 13/15\n",
      "805/805 [==============================] - 1s 911us/step - loss: 4055786752.0000 - r_square: 0.7633\n",
      "Epoch 14/15\n",
      "805/805 [==============================] - 1s 904us/step - loss: 4050243840.0000 - r_square: 0.7636\n",
      "Epoch 15/15\n",
      "805/805 [==============================] - 1s 984us/step - loss: 4043303168.0000 - r_square: 0.7640\n"
     ]
    }
   ],
   "source": [
    "metric = tfa.r_square.RSquare()\n",
    "\n",
    "model = keras.Sequential([\n",
    "    keras.layers.Dense(15, input_shape=[len(X.columns)], activation='relu'),\n",
    "    keras.layers.Dense(15, activation='relu'),\n",
    "    keras.layers.Dense(1, activation='linear')\n",
    "    ])\n",
    "\n",
    "model.compile(optimizer='adam',loss='mean_squared_error',metrics=[metric])\n",
    "\n",
    "fit = model.fit(x_train,y_train,epochs=15)"
   ]
  },
  {
   "cell_type": "code",
   "execution_count": 204,
   "id": "0d9cb262",
   "metadata": {},
   "outputs": [
    {
     "name": "stdout",
     "output_type": "stream",
     "text": [
      "805/805 [==============================] - 1s 650us/step\n",
      "269/269 [==============================] - 0s 806us/step - loss: 3904608256.0000 - r_square: 0.7598\n"
     ]
    },
    {
     "data": {
      "text/plain": [
       "[3904608256.0, 0.7598353624343872]"
      ]
     },
     "execution_count": 204,
     "metadata": {},
     "output_type": "execute_result"
    }
   ],
   "source": [
    "trained = model.predict(x_train)\n",
    "\n",
    "model.evaluate(x_test, y_test)"
   ]
  }
 ],
 "metadata": {
  "kernelspec": {
   "display_name": "Python 3 (ipykernel)",
   "language": "python",
   "name": "python3"
  },
  "language_info": {
   "codemirror_mode": {
    "name": "ipython",
    "version": 3
   },
   "file_extension": ".py",
   "mimetype": "text/x-python",
   "name": "python",
   "nbconvert_exporter": "python",
   "pygments_lexer": "ipython3",
   "version": "3.9.7"
  }
 },
 "nbformat": 4,
 "nbformat_minor": 5
}
