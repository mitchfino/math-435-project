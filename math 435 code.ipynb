{
 "cells": [
  {
   "cell_type": "code",
   "execution_count": 141,
   "metadata": {},
   "outputs": [],
   "source": [
    "import pandas as pd\n",
    "from geopy.geocoders import Nominatim\n",
    "import numpy as np\n",
    "import re\n",
    "import matplotlib.pyplot as plt\n",
    "from matplotlib import style\n",
    "style.use('seaborn-white')\n",
    "from sklearn.model_selection import train_test_split\n",
    "from sklearn.linear_model import LinearRegression\n",
    "from sklearn.metrics import r2_score"
   ]
  },
  {
   "cell_type": "code",
   "execution_count": 106,
   "metadata": {},
   "outputs": [],
   "source": [
    "# put your local path in here\n",
    "df = pd.read_excel(r\"C:\\Users\\ymehr\\Downloads\\ValidData-MitC2022data - SalesPopulation.xlsx\",sheet_name='filtered')"
   ]
  },
  {
   "cell_type": "code",
   "execution_count": 107,
   "metadata": {},
   "outputs": [
    {
     "data": {
      "text/html": [
       "<div>\n",
       "<style scoped>\n",
       "    .dataframe tbody tr th:only-of-type {\n",
       "        vertical-align: middle;\n",
       "    }\n",
       "\n",
       "    .dataframe tbody tr th {\n",
       "        vertical-align: top;\n",
       "    }\n",
       "\n",
       "    .dataframe thead th {\n",
       "        text-align: right;\n",
       "    }\n",
       "</style>\n",
       "<table border=\"1\" class=\"dataframe\">\n",
       "  <thead>\n",
       "    <tr style=\"text-align: right;\">\n",
       "      <th></th>\n",
       "      <th>NBHD</th>\n",
       "      <th>PID</th>\n",
       "      <th>Situs</th>\n",
       "      <th>PrpCls</th>\n",
       "      <th>PrUse</th>\n",
       "      <th>CDU</th>\n",
       "      <th>Qual</th>\n",
       "      <th>YrRD</th>\n",
       "      <th>Remd</th>\n",
       "      <th>Imp</th>\n",
       "      <th>...</th>\n",
       "      <th>Infl2</th>\n",
       "      <th>HSA_Acres</th>\n",
       "      <th>HSALandValue</th>\n",
       "      <th>TotAcres</th>\n",
       "      <th>V/I</th>\n",
       "      <th>Inst#</th>\n",
       "      <th>SaleDate</th>\n",
       "      <th>Price</th>\n",
       "      <th>SaleValidity</th>\n",
       "      <th>Sum801TLA</th>\n",
       "    </tr>\n",
       "  </thead>\n",
       "  <tbody>\n",
       "    <tr>\n",
       "      <th>0</th>\n",
       "      <td>7HST242</td>\n",
       "      <td>09-13-434-003-000</td>\n",
       "      <td>2525   RIDGE RD</td>\n",
       "      <td>R1</td>\n",
       "      <td>1</td>\n",
       "      <td>4.0</td>\n",
       "      <td>6.0</td>\n",
       "      <td>NaN</td>\n",
       "      <td>NaN</td>\n",
       "      <td>R2</td>\n",
       "      <td>...</td>\n",
       "      <td>NaN</td>\n",
       "      <td>NaN</td>\n",
       "      <td>NaN</td>\n",
       "      <td>1.30</td>\n",
       "      <td>I</td>\n",
       "      <td>2016017053</td>\n",
       "      <td>2016-05-05</td>\n",
       "      <td>2122450.0</td>\n",
       "      <td>1</td>\n",
       "      <td>12026</td>\n",
       "    </tr>\n",
       "    <tr>\n",
       "      <th>1</th>\n",
       "      <td>7HSE361</td>\n",
       "      <td>16-11-404-012-000</td>\n",
       "      <td>5330 S 93RD PL</td>\n",
       "      <td>R1</td>\n",
       "      <td>1</td>\n",
       "      <td>4.0</td>\n",
       "      <td>6.0</td>\n",
       "      <td>NaN</td>\n",
       "      <td>NaN</td>\n",
       "      <td>RA</td>\n",
       "      <td>...</td>\n",
       "      <td>9.0</td>\n",
       "      <td>NaN</td>\n",
       "      <td>NaN</td>\n",
       "      <td>0.78</td>\n",
       "      <td>I</td>\n",
       "      <td>2022024921</td>\n",
       "      <td>2022-06-02</td>\n",
       "      <td>1950000.0</td>\n",
       "      <td>1</td>\n",
       "      <td>11047</td>\n",
       "    </tr>\n",
       "    <tr>\n",
       "      <th>2</th>\n",
       "      <td>7HSE361</td>\n",
       "      <td>16-11-404-013-000</td>\n",
       "      <td>5410 S 93RD PL</td>\n",
       "      <td>R1</td>\n",
       "      <td>1</td>\n",
       "      <td>4.0</td>\n",
       "      <td>5.0</td>\n",
       "      <td>NaN</td>\n",
       "      <td>NaN</td>\n",
       "      <td>RA</td>\n",
       "      <td>...</td>\n",
       "      <td>NaN</td>\n",
       "      <td>NaN</td>\n",
       "      <td>NaN</td>\n",
       "      <td>0.73</td>\n",
       "      <td>I</td>\n",
       "      <td>2021068025</td>\n",
       "      <td>2021-11-11</td>\n",
       "      <td>1875000.0</td>\n",
       "      <td>1</td>\n",
       "      <td>8816</td>\n",
       "    </tr>\n",
       "    <tr>\n",
       "      <th>3</th>\n",
       "      <td>7AEA310</td>\n",
       "      <td>23-31-416-001-000</td>\n",
       "      <td>11737   SEABISCUIT LN</td>\n",
       "      <td>R1</td>\n",
       "      <td>12</td>\n",
       "      <td>4.0</td>\n",
       "      <td>5.0</td>\n",
       "      <td>NaN</td>\n",
       "      <td>NaN</td>\n",
       "      <td>RA</td>\n",
       "      <td>...</td>\n",
       "      <td>NaN</td>\n",
       "      <td>2.03</td>\n",
       "      <td>1933-05-06 00:00:00</td>\n",
       "      <td>3.03</td>\n",
       "      <td>I</td>\n",
       "      <td>2022028838</td>\n",
       "      <td>2022-06-25</td>\n",
       "      <td>1850000.0</td>\n",
       "      <td>1</td>\n",
       "      <td>6935</td>\n",
       "    </tr>\n",
       "    <tr>\n",
       "      <th>4</th>\n",
       "      <td>7HST242</td>\n",
       "      <td>09-13-402-005-000</td>\n",
       "      <td>2421   RIDGE RD</td>\n",
       "      <td>R1</td>\n",
       "      <td>1</td>\n",
       "      <td>5.0</td>\n",
       "      <td>5.0</td>\n",
       "      <td>2022.0</td>\n",
       "      <td>6.0</td>\n",
       "      <td>RA</td>\n",
       "      <td>...</td>\n",
       "      <td>NaN</td>\n",
       "      <td>NaN</td>\n",
       "      <td>NaN</td>\n",
       "      <td>0.58</td>\n",
       "      <td>I</td>\n",
       "      <td>2022024045</td>\n",
       "      <td>2022-06-01</td>\n",
       "      <td>1800000.0</td>\n",
       "      <td>1</td>\n",
       "      <td>9936</td>\n",
       "    </tr>\n",
       "  </tbody>\n",
       "</table>\n",
       "<p>5 rows × 35 columns</p>\n",
       "</div>"
      ],
      "text/plain": [
       "      NBHD                PID                    Situs PrpCls  PrUse  CDU  \\\n",
       "0  7HST242  09-13-434-003-000        2525   RIDGE RD       R1      1  4.0   \n",
       "1  7HSE361  16-11-404-012-000         5330 S 93RD PL       R1      1  4.0   \n",
       "2  7HSE361  16-11-404-013-000         5410 S 93RD PL       R1      1  4.0   \n",
       "3  7AEA310  23-31-416-001-000  11737   SEABISCUIT LN       R1     12  4.0   \n",
       "4  7HST242  09-13-402-005-000        2421   RIDGE RD       R1      1  5.0   \n",
       "\n",
       "   Qual    YrRD  Remd Imp  ...  Infl2  HSA_Acres         HSALandValue  \\\n",
       "0   6.0     NaN   NaN  R2  ...    NaN        NaN                  NaN   \n",
       "1   6.0     NaN   NaN  RA  ...    9.0        NaN                  NaN   \n",
       "2   5.0     NaN   NaN  RA  ...    NaN        NaN                  NaN   \n",
       "3   5.0     NaN   NaN  RA  ...    NaN       2.03  1933-05-06 00:00:00   \n",
       "4   5.0  2022.0   6.0  RA  ...    NaN        NaN                  NaN   \n",
       "\n",
       "   TotAcres  V/I       Inst#   SaleDate      Price  SaleValidity  Sum801TLA  \n",
       "0      1.30    I  2016017053 2016-05-05  2122450.0             1      12026  \n",
       "1      0.78    I  2022024921 2022-06-02  1950000.0             1      11047  \n",
       "2      0.73    I  2021068025 2021-11-11  1875000.0             1       8816  \n",
       "3      3.03    I  2022028838 2022-06-25  1850000.0             1       6935  \n",
       "4      0.58    I  2022024045 2022-06-01  1800000.0             1       9936  \n",
       "\n",
       "[5 rows x 35 columns]"
      ]
     },
     "execution_count": 107,
     "metadata": {},
     "output_type": "execute_result"
    }
   ],
   "source": [
    "df.head()"
   ]
  },
  {
   "cell_type": "code",
   "execution_count": 108,
   "metadata": {},
   "outputs": [],
   "source": [
    "geolocator = Nominatim(user_agent=\"geoapiExercises\")\n",
    "pattern = re.compile(r'\\d{5,}')"
   ]
  },
  {
   "cell_type": "code",
   "execution_count": 109,
   "metadata": {},
   "outputs": [],
   "source": [
    "df['Modified Address'] = df['Situs'].apply(lambda x:x + 'Lancaster County')"
   ]
  },
  {
   "cell_type": "code",
   "execution_count": 6,
   "metadata": {},
   "outputs": [],
   "source": [
    "def get_zipcodes(address):\n",
    "    try:\n",
    "        location = geolocator.geocode(address,timeout=100000)\n",
    "        zip = re.search(pattern, location.raw['display_name']).group()\n",
    "        return zip\n",
    "    except:\n",
    "        return np.nan\n",
    "\n",
    "temp = df['Modified Address'].apply(get_zipcodes)"
   ]
  },
  {
   "cell_type": "code",
   "execution_count": null,
   "metadata": {},
   "outputs": [],
   "source": [
    "len(temp.dropna())"
   ]
  },
  {
   "cell_type": "code",
   "execution_count": null,
   "metadata": {},
   "outputs": [],
   "source": [
    "df['Zip Code'] = temp"
   ]
  },
  {
   "cell_type": "code",
   "execution_count": 112,
   "metadata": {},
   "outputs": [
    {
     "data": {
      "text/plain": [
       "PrUse           0.195567\n",
       "CDU             0.120910\n",
       "Qual            0.575430\n",
       "YrRD           -0.005322\n",
       "Remd            0.020230\n",
       "TLA             0.689752\n",
       "YrBlt           0.476923\n",
       "GarCap          0.597921\n",
       "Bedrm           0.167392\n",
       "FND             0.349925\n",
       "801Units        0.728121\n",
       "802Units        0.185000\n",
       "803Units        0.689107\n",
       "FP              0.309291\n",
       "FixCt           0.727844\n",
       "Pool            0.398349\n",
       "Acres           0.032477\n",
       "LandValue       0.798683\n",
       "Infl1           0.005623\n",
       "Infl2           0.131819\n",
       "HSA_Acres       0.061069\n",
       "TotAcres        0.263807\n",
       "Inst#           0.265492\n",
       "Price           1.000000\n",
       "SaleValidity   -0.000904\n",
       "Sum801TLA       0.786005\n",
       "Name: Price, dtype: float64"
      ]
     },
     "execution_count": 112,
     "metadata": {},
     "output_type": "execute_result"
    }
   ],
   "source": [
    "df.corr()['Price']"
   ]
  },
  {
   "cell_type": "code",
   "execution_count": 113,
   "metadata": {},
   "outputs": [
    {
     "name": "stdout",
     "output_type": "stream",
     "text": [
      "<class 'pandas.core.frame.DataFrame'>\n",
      "RangeIndex: 34125 entries, 0 to 34124\n",
      "Data columns (total 36 columns):\n",
      " #   Column            Non-Null Count  Dtype         \n",
      "---  ------            --------------  -----         \n",
      " 0   NBHD              34125 non-null  object        \n",
      " 1   PID               34125 non-null  object        \n",
      " 2   Situs             34125 non-null  object        \n",
      " 3   PrpCls            34125 non-null  object        \n",
      " 4   PrUse             34125 non-null  int64         \n",
      " 5   CDU               34116 non-null  float64       \n",
      " 6   Qual              34116 non-null  float64       \n",
      " 7   YrRD              3698 non-null   float64       \n",
      " 8   Remd              3790 non-null   float64       \n",
      " 9   Imp               34116 non-null  object        \n",
      " 10  TLA               34123 non-null  float64       \n",
      " 11  YrBlt             34116 non-null  float64       \n",
      " 12  GarCap            31197 non-null  float64       \n",
      " 13  Bedrm             34115 non-null  float64       \n",
      " 14  FND               34111 non-null  float64       \n",
      " 15  801Units          29842 non-null  float64       \n",
      " 16  802Units          3786 non-null   float64       \n",
      " 17  803Units          22494 non-null  float64       \n",
      " 18  FP                14955 non-null  float64       \n",
      " 19  FixCt             34118 non-null  float64       \n",
      " 20  Pool              304 non-null    float64       \n",
      " 21  LandType          34125 non-null  object        \n",
      " 22  Acres             1176 non-null   float64       \n",
      " 23  LandValue         34125 non-null  int64         \n",
      " 24  Infl1             9439 non-null   float64       \n",
      " 25  Infl2             2271 non-null   float64       \n",
      " 26  HSA_Acres         928 non-null    float64       \n",
      " 27  HSALandValue      927 non-null    object        \n",
      " 28  TotAcres          33395 non-null  float64       \n",
      " 29  V/I               34120 non-null  object        \n",
      " 30  Inst#             34125 non-null  int64         \n",
      " 31  SaleDate          34125 non-null  datetime64[ns]\n",
      " 32  Price             34125 non-null  float64       \n",
      " 33  SaleValidity      34125 non-null  int64         \n",
      " 34  Sum801TLA         34125 non-null  int64         \n",
      " 35  Modified Address  34125 non-null  object        \n",
      "dtypes: datetime64[ns](1), float64(21), int64(5), object(9)\n",
      "memory usage: 9.4+ MB\n"
     ]
    }
   ],
   "source": [
    "df.info()"
   ]
  },
  {
   "cell_type": "code",
   "execution_count": 151,
   "metadata": {},
   "outputs": [],
   "source": [
    "useful_df = df[['Sum801TLA','LandValue','Qual','FixCt','GarCap','TLA','FND','Price']]"
   ]
  },
  {
   "cell_type": "code",
   "execution_count": 152,
   "metadata": {},
   "outputs": [
    {
     "data": {
      "text/html": [
       "<div>\n",
       "<style scoped>\n",
       "    .dataframe tbody tr th:only-of-type {\n",
       "        vertical-align: middle;\n",
       "    }\n",
       "\n",
       "    .dataframe tbody tr th {\n",
       "        vertical-align: top;\n",
       "    }\n",
       "\n",
       "    .dataframe thead th {\n",
       "        text-align: right;\n",
       "    }\n",
       "</style>\n",
       "<table border=\"1\" class=\"dataframe\">\n",
       "  <thead>\n",
       "    <tr style=\"text-align: right;\">\n",
       "      <th></th>\n",
       "      <th>Sum801TLA</th>\n",
       "      <th>LandValue</th>\n",
       "      <th>Qual</th>\n",
       "      <th>FixCt</th>\n",
       "      <th>GarCap</th>\n",
       "      <th>TLA</th>\n",
       "      <th>FND</th>\n",
       "      <th>Price</th>\n",
       "    </tr>\n",
       "  </thead>\n",
       "  <tbody>\n",
       "    <tr>\n",
       "      <th>0</th>\n",
       "      <td>12026</td>\n",
       "      <td>343850</td>\n",
       "      <td>6.0</td>\n",
       "      <td>25.0</td>\n",
       "      <td>4.0</td>\n",
       "      <td>7391.0</td>\n",
       "      <td>6.0</td>\n",
       "      <td>2122450.0</td>\n",
       "    </tr>\n",
       "    <tr>\n",
       "      <th>1</th>\n",
       "      <td>11047</td>\n",
       "      <td>187800</td>\n",
       "      <td>6.0</td>\n",
       "      <td>30.0</td>\n",
       "      <td>5.0</td>\n",
       "      <td>6590.0</td>\n",
       "      <td>6.0</td>\n",
       "      <td>1950000.0</td>\n",
       "    </tr>\n",
       "    <tr>\n",
       "      <th>2</th>\n",
       "      <td>8816</td>\n",
       "      <td>144000</td>\n",
       "      <td>5.0</td>\n",
       "      <td>26.0</td>\n",
       "      <td>4.0</td>\n",
       "      <td>4045.0</td>\n",
       "      <td>6.0</td>\n",
       "      <td>1875000.0</td>\n",
       "    </tr>\n",
       "    <tr>\n",
       "      <th>3</th>\n",
       "      <td>6935</td>\n",
       "      <td>175000</td>\n",
       "      <td>5.0</td>\n",
       "      <td>23.0</td>\n",
       "      <td>4.0</td>\n",
       "      <td>4174.0</td>\n",
       "      <td>6.0</td>\n",
       "      <td>1850000.0</td>\n",
       "    </tr>\n",
       "    <tr>\n",
       "      <th>4</th>\n",
       "      <td>9936</td>\n",
       "      <td>264500</td>\n",
       "      <td>5.0</td>\n",
       "      <td>25.0</td>\n",
       "      <td>4.0</td>\n",
       "      <td>6186.0</td>\n",
       "      <td>6.0</td>\n",
       "      <td>1800000.0</td>\n",
       "    </tr>\n",
       "    <tr>\n",
       "      <th>...</th>\n",
       "      <td>...</td>\n",
       "      <td>...</td>\n",
       "      <td>...</td>\n",
       "      <td>...</td>\n",
       "      <td>...</td>\n",
       "      <td>...</td>\n",
       "      <td>...</td>\n",
       "      <td>...</td>\n",
       "    </tr>\n",
       "    <tr>\n",
       "      <th>34120</th>\n",
       "      <td>2778</td>\n",
       "      <td>27000</td>\n",
       "      <td>2.0</td>\n",
       "      <td>14.0</td>\n",
       "      <td>NaN</td>\n",
       "      <td>1478.0</td>\n",
       "      <td>4.0</td>\n",
       "      <td>27500.0</td>\n",
       "    </tr>\n",
       "    <tr>\n",
       "      <th>34121</th>\n",
       "      <td>2794</td>\n",
       "      <td>36000</td>\n",
       "      <td>3.0</td>\n",
       "      <td>9.0</td>\n",
       "      <td>NaN</td>\n",
       "      <td>1898.0</td>\n",
       "      <td>4.0</td>\n",
       "      <td>21000.0</td>\n",
       "    </tr>\n",
       "    <tr>\n",
       "      <th>34122</th>\n",
       "      <td>371</td>\n",
       "      <td>14000</td>\n",
       "      <td>2.0</td>\n",
       "      <td>5.0</td>\n",
       "      <td>NaN</td>\n",
       "      <td>371.0</td>\n",
       "      <td>1.0</td>\n",
       "      <td>21000.0</td>\n",
       "    </tr>\n",
       "    <tr>\n",
       "      <th>34123</th>\n",
       "      <td>1540</td>\n",
       "      <td>45000</td>\n",
       "      <td>3.0</td>\n",
       "      <td>8.0</td>\n",
       "      <td>2.0</td>\n",
       "      <td>1108.0</td>\n",
       "      <td>5.0</td>\n",
       "      <td>0.0</td>\n",
       "    </tr>\n",
       "    <tr>\n",
       "      <th>34124</th>\n",
       "      <td>2970</td>\n",
       "      <td>45000</td>\n",
       "      <td>3.0</td>\n",
       "      <td>11.0</td>\n",
       "      <td>2.0</td>\n",
       "      <td>1980.0</td>\n",
       "      <td>7.0</td>\n",
       "      <td>0.0</td>\n",
       "    </tr>\n",
       "  </tbody>\n",
       "</table>\n",
       "<p>34125 rows × 8 columns</p>\n",
       "</div>"
      ],
      "text/plain": [
       "       Sum801TLA  LandValue  Qual  FixCt  GarCap     TLA  FND      Price\n",
       "0          12026     343850   6.0   25.0     4.0  7391.0  6.0  2122450.0\n",
       "1          11047     187800   6.0   30.0     5.0  6590.0  6.0  1950000.0\n",
       "2           8816     144000   5.0   26.0     4.0  4045.0  6.0  1875000.0\n",
       "3           6935     175000   5.0   23.0     4.0  4174.0  6.0  1850000.0\n",
       "4           9936     264500   5.0   25.0     4.0  6186.0  6.0  1800000.0\n",
       "...          ...        ...   ...    ...     ...     ...  ...        ...\n",
       "34120       2778      27000   2.0   14.0     NaN  1478.0  4.0    27500.0\n",
       "34121       2794      36000   3.0    9.0     NaN  1898.0  4.0    21000.0\n",
       "34122        371      14000   2.0    5.0     NaN   371.0  1.0    21000.0\n",
       "34123       1540      45000   3.0    8.0     2.0  1108.0  5.0        0.0\n",
       "34124       2970      45000   3.0   11.0     2.0  1980.0  7.0        0.0\n",
       "\n",
       "[34125 rows x 8 columns]"
      ]
     },
     "execution_count": 152,
     "metadata": {},
     "output_type": "execute_result"
    }
   ],
   "source": [
    "useful_df"
   ]
  },
  {
   "cell_type": "code",
   "execution_count": 153,
   "metadata": {},
   "outputs": [
    {
     "name": "stderr",
     "output_type": "stream",
     "text": [
      "<ipython-input-153-864e3b5e881f>:1: SettingWithCopyWarning: \n",
      "A value is trying to be set on a copy of a slice from a DataFrame\n",
      "\n",
      "See the caveats in the documentation: https://pandas.pydata.org/pandas-docs/stable/user_guide/indexing.html#returning-a-view-versus-a-copy\n",
      "  useful_df.dropna(how='any',inplace=True)\n"
     ]
    }
   ],
   "source": [
    "useful_df.dropna(how='any',inplace=True)"
   ]
  },
  {
   "cell_type": "code",
   "execution_count": 154,
   "metadata": {},
   "outputs": [
    {
     "name": "stdout",
     "output_type": "stream",
     "text": [
      "<class 'pandas.core.frame.DataFrame'>\n",
      "Int64Index: 31196 entries, 0 to 34124\n",
      "Data columns (total 8 columns):\n",
      " #   Column     Non-Null Count  Dtype  \n",
      "---  ------     --------------  -----  \n",
      " 0   Sum801TLA  31196 non-null  int64  \n",
      " 1   LandValue  31196 non-null  int64  \n",
      " 2   Qual       31196 non-null  float64\n",
      " 3   FixCt      31196 non-null  float64\n",
      " 4   GarCap     31196 non-null  float64\n",
      " 5   TLA        31196 non-null  float64\n",
      " 6   FND        31196 non-null  float64\n",
      " 7   Price      31196 non-null  float64\n",
      "dtypes: float64(6), int64(2)\n",
      "memory usage: 2.1 MB\n"
     ]
    }
   ],
   "source": [
    "useful_df.info()"
   ]
  },
  {
   "cell_type": "code",
   "execution_count": 155,
   "metadata": {},
   "outputs": [],
   "source": [
    "X = useful_df[useful_df.columns[:-1]]\n",
    "Y = useful_df[useful_df.columns[-1]]\n",
    "# Y = np.reshape(list(Y),(-1,1))\n",
    "x_train,x_test,y_train,y_test = train_test_split(X,Y,test_size =0.2)"
   ]
  },
  {
   "cell_type": "code",
   "execution_count": 156,
   "metadata": {},
   "outputs": [
    {
     "data": {
      "text/plain": [
       "(24956,)"
      ]
     },
     "execution_count": 156,
     "metadata": {},
     "output_type": "execute_result"
    }
   ],
   "source": [
    "y_train.shape"
   ]
  },
  {
   "cell_type": "code",
   "execution_count": 157,
   "metadata": {},
   "outputs": [],
   "source": [
    "model = LinearRegression().fit(x_train,y_train)\n",
    "predictions = model.predict(x_test)"
   ]
  },
  {
   "cell_type": "code",
   "execution_count": 158,
   "metadata": {},
   "outputs": [
    {
     "name": "stderr",
     "output_type": "stream",
     "text": [
      "<ipython-input-158-2e634147cba2>:2: RuntimeWarning: divide by zero encountered in double_scalars\n",
      "  ratios = [predictions[i]/y_test[i] for i in range(len(predictions))]\n"
     ]
    }
   ],
   "source": [
    "y_test = list(y_test)\n",
    "ratios = [predictions[i]/y_test[i] for i in range(len(predictions))]\n",
    "ratios = list(filter(lambda x:x!=float('inf'),ratios))"
   ]
  },
  {
   "cell_type": "code",
   "execution_count": 159,
   "metadata": {},
   "outputs": [
    {
     "data": {
      "text/plain": [
       "1.0269544984798675"
      ]
     },
     "execution_count": 159,
     "metadata": {},
     "output_type": "execute_result"
    }
   ],
   "source": [
    "np.mean(ratios)"
   ]
  },
  {
   "cell_type": "code",
   "execution_count": 164,
   "metadata": {},
   "outputs": [
    {
     "data": {
      "image/png": "[encoded data removed]",
      "text/plain": [
       "<Figure size 1080x576 with 1 Axes>"
      ]
     },
     "metadata": {},
     "output_type": "display_data"
    }
   ],
   "source": [
    "plt.figure(figsize=(15,8))\n",
    "plt.hist(ratios,bins=20,edgecolor='black',label=f'std = {np.std(ratios)}')\n",
    "plt.xlabel('ratio')\n",
    "plt.ylabel('frequency')\n",
    "plt.legend()\n",
    "plt.savefig('distribution')\n",
    "plt.show()"
   ]
  },
  {
   "cell_type": "code",
   "execution_count": 161,
   "metadata": {},
   "outputs": [
    {
     "data": {
      "image/png": "[encoded data removed]",
      "text/plain": [
       "<Figure size 1080x576 with 1 Axes>"
      ]
     },
     "metadata": {},
     "output_type": "display_data"
    }
   ],
   "source": [
    "plt.figure(figsize=(15,8))\n",
    "plt.scatter(range(len(ratios))[0:1500],ratios[:1500],label=f'mean = {np.mean(ratios)}')\n",
    "plt.xlabel('house index')\n",
    "plt.ylabel('ratio')\n",
    "plt.legend()\n",
    "plt.savefig('ratio plot')\n",
    "plt.show()"
   ]
  },
  {
   "cell_type": "code",
   "execution_count": 163,
   "metadata": {},
   "outputs": [
    {
     "data": {
      "text/plain": [
       "0.7720115797241192"
      ]
     },
     "execution_count": 163,
     "metadata": {},
     "output_type": "execute_result"
    }
   ],
   "source": [
    "r2_score(y_test,predictions)"
   ]
  }
 ],
 "metadata": {
  "kernelspec": {
   "display_name": "Python 3.9.4 64-bit",
   "language": "python",
   "name": "python3"
  },
  "language_info": {
   "codemirror_mode": {
    "name": "ipython",
    "version": 3
   },
   "file_extension": ".py",
   "mimetype": "text/x-python",
   "name": "python",
   "nbconvert_exporter": "python",
   "pygments_lexer": "ipython3",
   "version": "3.9.4"
  },
  "orig_nbformat": 4,
  "vscode": {
   "interpreter": {
    "hash": "157570db7612c75920024a12f929726d05ab55e81c8d1bb30660f905a6f4d21f"
   }
  }
 },
 "nbformat": 4,
 "nbformat_minor": 2
}
